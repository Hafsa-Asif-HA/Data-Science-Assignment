{
 "cells": [
  {
   "cell_type": "markdown",
   "id": "fd1f0cf9",
   "metadata": {},
   "source": [
    "# ASSIGNMENT # 1\n"
   ]
  },
  {
   "cell_type": "code",
   "execution_count": 2,
   "id": "493f913a",
   "metadata": {},
   "outputs": [
    {
     "name": "stdout",
     "output_type": "stream",
     "text": [
      "Twinkle,twinkle,little star,\n",
      "\tHow I wonder what you are!\n",
      "\t\tUp above the world so high\n",
      "\t\tLike a diamond in the sky.\n",
      "Twinkle,twinkle,little star,\n",
      "\tHow I wonder what you are\n"
     ]
    }
   ],
   "source": [
    "#Write a Python program to print the following string in a specific format (see the output)\n",
    "print(\"Twinkle,twinkle,little star,\\n\\tHow I wonder what you are!\\n\\t\\tUp above the world so high\\n\\t\\tLike a diamond in the sky.\\nTwinkle,twinkle,little star,\\n\\tHow I wonder what you are\")"
   ]
  },
  {
   "cell_type": "code",
   "execution_count": 3,
   "id": "4f325de2",
   "metadata": {},
   "outputs": [
    {
     "name": "stdout",
     "output_type": "stream",
     "text": [
      "3.9.7 (default, Sep 16 2021, 16:59:28) [MSC v.1916 64 bit (AMD64)]\n"
     ]
    }
   ],
   "source": [
    "#Write a Python program to get the Python version you are using\n",
    "import sys\n",
    "print(sys.version)"
   ]
  },
  {
   "cell_type": "code",
   "execution_count": 4,
   "id": "770940df",
   "metadata": {},
   "outputs": [
    {
     "name": "stdout",
     "output_type": "stream",
     "text": [
      "03/01/2022, 00:15:11\n"
     ]
    }
   ],
   "source": [
    "#Write a Python program to display the current date and time.\n",
    "import datetime\n",
    "c=datetime.datetime.now()\n",
    "print(c.strftime(\"%d/%m/%Y, %H:%M:%S\"))"
   ]
  },
  {
   "cell_type": "code",
   "execution_count": 5,
   "id": "0156cf91",
   "metadata": {},
   "outputs": [
    {
     "name": "stdout",
     "output_type": "stream",
     "text": [
      "Enter Radius of a circle: 9\n",
      "\n",
      "Area of a circle is : PI*r^2  \n",
      "\n",
      "Area of a given cirlce is  254.34\n"
     ]
    }
   ],
   "source": [
    "#Write a Python program which accepts the radius of a circle from the user and compute the area.\n",
    "r=int(input(\"Enter Radius of a circle: \"))\n",
    "print(\"\\nArea of a circle is : PI*r^2  \")\n",
    "a=3.14*r**2\n",
    "print(\"\\nArea of a given cirlce is \",a)"
   ]
  },
  {
   "cell_type": "code",
   "execution_count": 6,
   "id": "c44f59b3",
   "metadata": {},
   "outputs": [
    {
     "name": "stdout",
     "output_type": "stream",
     "text": [
      "enter first name: Hafsa\n",
      "enter last name: Asif\n",
      "Asif Hafsa\n"
     ]
    }
   ],
   "source": [
    "#Write a Python program which accepts the user's first and last name and print them in reverse order with a space between them.\n",
    "f=input(\"enter first name: \")\n",
    "l=input('enter last name: ')\n",
    "print(l+\" \"+f)"
   ]
  },
  {
   "cell_type": "code",
   "execution_count": 11,
   "id": "b0dd2e7a",
   "metadata": {},
   "outputs": [
    {
     "name": "stdout",
     "output_type": "stream",
     "text": [
      "enter number :17\n",
      "enter number :35\n",
      "Sum = 52\n"
     ]
    }
   ],
   "source": [
    "#Write a python program which takes two inputs from user and print them addition\n",
    "a=int(input(\"enter number :\"))\n",
    "b=int(input(\"enter number :\"))\n",
    "print(\"Sum =\",a+b)"
   ]
  },
  {
   "cell_type": "code",
   "execution_count": null,
   "id": "23f23447",
   "metadata": {},
   "outputs": [],
   "source": []
  }
 ],
 "metadata": {
  "kernelspec": {
   "display_name": "Python 3 (ipykernel)",
   "language": "python",
   "name": "python3"
  },
  "language_info": {
   "codemirror_mode": {
    "name": "ipython",
    "version": 3
   },
   "file_extension": ".py",
   "mimetype": "text/x-python",
   "name": "python",
   "nbconvert_exporter": "python",
   "pygments_lexer": "ipython3",
   "version": "3.9.7"
  }
 },
 "nbformat": 4,
 "nbformat_minor": 5
}
